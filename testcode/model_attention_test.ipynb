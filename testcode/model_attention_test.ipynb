{
 "cells": [
  {
   "cell_type": "code",
   "execution_count": 1,
   "metadata": {},
   "outputs": [],
   "source": [
    "import numpy as np\n",
    "import matplotlib.pyplot as plt\n",
    "from scipy import special"
   ]
  },
  {
   "cell_type": "markdown",
   "metadata": {},
   "source": [
    "### Defining input for the attention layer"
   ]
  },
  {
   "cell_type": "code",
   "execution_count": 2,
   "metadata": {},
   "outputs": [],
   "source": [
    "INPUT_SIZE = 4\n",
    "X1 = np.array([1, 2, 3, 4])\n",
    "X2 = np.array([5, 6, 7, 8])\n",
    "X3 = np.array([2, 0, 1, 0])\n",
    "\n",
    "BATCH = np.array([X1,\n",
    "                  X2,\n",
    "                  X3])"
   ]
  },
  {
   "cell_type": "markdown",
   "metadata": {},
   "source": [
    "### Define keys and queries matrices"
   ]
  },
  {
   "cell_type": "code",
   "execution_count": 3,
   "metadata": {},
   "outputs": [
    {
     "name": "stdout",
     "output_type": "stream",
     "text": [
      "key matrix:\n",
      " [[0.13814231 0.8731915  0.51151005 0.72582011 0.95036389]\n",
      " [0.60210799 0.23468904 0.14263186 0.80795999 0.42593447]\n",
      " [0.95652938 0.271889   0.90636572 0.01681083 0.02756798]\n",
      " [0.27835921 0.4553256  0.78750757 0.76632905 0.35947534]]\n",
      "\n",
      "query matrix:\n",
      " [[0.94006615 0.84446622 0.02131257 0.20925241 0.85826604]\n",
      " [0.64090179 0.33988937 0.56320776 0.92168833 0.77486216]\n",
      " [0.41077166 0.16167661 0.46416962 0.33224631 0.44153737]\n",
      " [0.3406976  0.69500717 0.72462868 0.26272935 0.18809307]]\n",
      "\n",
      "value matrix:\n",
      " [[0.29339513 0.31530918 0.96702686 0.65722146 0.91285902]\n",
      " [0.82527956 0.54796411 0.58954936 0.77882286 0.11837037]\n",
      " [0.7735471  0.89792396 0.19851922 0.83874741 0.43272577]\n",
      " [0.0070122  0.19577224 0.97789047 0.19845109 0.50700146]]\n",
      "\n"
     ]
    }
   ],
   "source": [
    "ATTENTION_SIZE = 5\n",
    "\n",
    "# KEY_M = np.ones((4, ATTENTION_SIZE), dtype=\"int\")\n",
    "# KEY_M = np.array([np.arange(1, ATTENTION_SIZE+1) for _ in range(len(X1))])\n",
    "# QUERY_M = np.array([np.arange(1, 5) for _ in range(ATTENTION_SIZE)]).T\n",
    "# VALUE_M = QUERY_M + 0.3\n",
    "\n",
    "KEY_M = np.random.random((INPUT_SIZE, ATTENTION_SIZE))\n",
    "QUERY_M = np.random.random((INPUT_SIZE, ATTENTION_SIZE))\n",
    "VALUE_M = np.random.random((INPUT_SIZE, ATTENTION_SIZE))\n",
    "\n",
    "\n",
    "print(f\"key matrix:\\n {KEY_M}\\n\")\n",
    "print(f\"query matrix:\\n {QUERY_M}\\n\")\n",
    "print(f\"value matrix:\\n {VALUE_M}\\n\")"
   ]
  },
  {
   "cell_type": "code",
   "execution_count": 4,
   "metadata": {},
   "outputs": [
    {
     "name": "stdout",
     "output_type": "stream",
     "text": [
      "key repr:\n",
      " [[ 5.32538329  3.97953898  6.66590118  5.45748878  3.32283814]\n",
      " [13.22593888 11.31991956 16.05796196 14.7251687  10.37620488]\n",
      " [ 1.23281401  2.01827201  1.92938583  1.46845104  1.92829576]]\n",
      "\n",
      "query repr:\n",
      " [[ 4.81697513  4.78930346  5.43875166  4.10028543  4.48497475]\n",
      " [14.14672395 12.95346092 12.5320262  11.00395106 13.53600931]\n",
      " [ 2.29090397  1.85060904  0.50679477  0.75075113  2.15806945]]\n",
      "\n",
      "value repr:\n",
      " [[ 4.29264435  4.88809824  6.65324514  5.52491378  4.47578291]\n",
      " [11.88958032 12.7159762  17.5851888  15.41788507 12.35960937]\n",
      " [ 1.36033736  1.52854232  2.13257294  2.15319033  2.25844381]]\n",
      "\n"
     ]
    }
   ],
   "source": [
    "KEY_REP = []\n",
    "QUERY_REP = []\n",
    "VALUE_REP = []\n",
    "\n",
    "for X in BATCH:\n",
    "    KEY_REP.append(X @ KEY_M)\n",
    "    QUERY_REP.append(X @ QUERY_M)\n",
    "    VALUE_REP.append(X @ VALUE_M)\n",
    "\n",
    "KEY_REP = np.array(KEY_REP)\n",
    "QUERY_REP = np.array(QUERY_REP)\n",
    "VALUE_REP = np.array(VALUE_REP)\n",
    "\n",
    "print(f\"key repr:\\n {KEY_REP}\\n\")\n",
    "print(f\"query repr:\\n {QUERY_REP}\\n\")\n",
    "print(f\"value repr:\\n {VALUE_REP}\\n\")"
   ]
  },
  {
   "cell_type": "code",
   "execution_count": 5,
   "metadata": {},
   "outputs": [
    {
     "name": "stdout",
     "output_type": "stream",
     "text": [
      "initial key @ query result:\n",
      " [[118.24574668 315.45468563  34.21088772]\n",
      " [312.17322738 837.46208333  92.83370028]\n",
      " [ 40.76742812 110.02319356  12.80093104]]\n",
      "\n",
      "scaled key @ query result:\n",
      " [[0.05288111 0.14107562 0.01529957]\n",
      " [0.13960811 0.37452443 0.04151649]\n",
      " [0.01823175 0.04920387 0.00572475]]\n",
      "\n",
      "final key @ query result:\n",
      " [[0.32729834 0.35747543 0.31522623]\n",
      " [0.31532126 0.39881925 0.28585948]\n",
      " [0.33123248 0.34165197 0.32711555]]\n",
      "\n"
     ]
    }
   ],
   "source": [
    "KEY_QUERY = KEY_REP @ QUERY_REP.T\n",
    "print(f\"initial key @ query result:\\n {KEY_QUERY}\\n\")\n",
    "\n",
    "#GEWOON HANDIG OM TE DOEN VOOR SMOOTH LOSS SURFACE - BOYOS VAN GOOGLE\n",
    "KEY_QUERY_SCALED = (KEY_QUERY / np.sqrt(ATTENTION_SIZE)) / 1000\n",
    "print(f\"scaled key @ query result:\\n {KEY_QUERY_SCALED}\\n\")\n",
    "\n",
    "KEY_QUERY_FINAL = special.softmax(KEY_QUERY_SCALED, axis=1)\n",
    "print(f\"final key @ query result:\\n {KEY_QUERY_FINAL}\\n\")\n"
   ]
  },
  {
   "cell_type": "code",
   "execution_count": 6,
   "metadata": {},
   "outputs": [
    {
     "name": "stdout",
     "output_type": "stream",
     "text": [
      "final result:\n",
      " [[6.08402221 6.62735211 9.13611192 7.99855225 6.5950937 ]\n",
      " [6.48422092 7.04964576 9.72083772 8.50658208 6.98615728]\n",
      " [5.92894929 6.4635452  8.90938307 7.80192376 6.44398167]]\n",
      "\n"
     ]
    }
   ],
   "source": [
    "QKV = KEY_QUERY_FINAL @ VALUE_REP\n",
    "\n",
    "print(f\"final result:\\n {QKV}\\n\")"
   ]
  },
  {
   "cell_type": "code",
   "execution_count": null,
   "metadata": {},
   "outputs": [],
   "source": []
  }
 ],
 "metadata": {
  "kernelspec": {
   "display_name": "Python 3",
   "language": "python",
   "name": "python3"
  },
  "language_info": {
   "codemirror_mode": {
    "name": "ipython",
    "version": 3
   },
   "file_extension": ".py",
   "mimetype": "text/x-python",
   "name": "python",
   "nbconvert_exporter": "python",
   "pygments_lexer": "ipython3",
   "version": "3.7.6"
  }
 },
 "nbformat": 4,
 "nbformat_minor": 2
}
