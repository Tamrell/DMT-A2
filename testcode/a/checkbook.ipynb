{
 "cells": [
  {
   "cell_type": "code",
   "execution_count": 7,
   "metadata": {},
   "outputs": [],
   "source": [
    "import pandas as pd\n",
    "import numpy as np\n",
    "import customstats as cs\n",
    "import time\n",
    "import matplotlib.pyplot as plt\n",
    "import os\n",
    "\n",
    "ROWS = 0"
   ]
  },
  {
   "cell_type": "code",
   "execution_count": 2,
   "metadata": {},
   "outputs": [
    {
     "name": "stdout",
     "output_type": "stream",
     "text": [
      "loading 4958347 rows took 16.519891262054443 seconds...\n"
     ]
    }
   ],
   "source": [
    "t = time.time()\n",
    "\n",
    "train_loc = os.path.join(\"data\",\"training_set_VU_DM.csv\")\n",
    "if ROWS:\n",
    "    df = pd.read_csv(train_loc, nrows=ROWS)\n",
    "else:\n",
    "    df = pd.read_csv(train_loc)\n",
    "shape = df.shape\n",
    "print(f\"loading {shape[0]} rows took {time.time() - t} seconds...\")"
   ]
  },
  {
   "cell_type": "code",
   "execution_count": 5,
   "metadata": {},
   "outputs": [
    {
     "name": "stdout",
     "output_type": "stream",
     "text": [
      "24.817172601916965\n",
      "5\n"
     ]
    }
   ],
   "source": [
    "\n",
    "check = [len(d) for s, d in df.groupby(\"srch_id\")]\n",
    "print(np.mean(check))\n",
    "print(np.min(check))"
   ]
  },
  {
   "cell_type": "code",
   "execution_count": 19,
   "metadata": {},
   "outputs": [
    {
     "name": "stdout",
     "output_type": "stream",
     "text": [
      "0\n",
      "0\n",
      "0\n",
      "0\n",
      "0\n",
      "4460\n",
      "4409\n",
      "4066\n",
      "4003\n",
      "3923\n",
      "3756\n",
      "3688\n",
      "3624\n",
      "3626\n",
      "3411\n",
      "3384\n",
      "3354\n",
      "3354\n",
      "3462\n",
      "3479\n",
      "3541\n",
      "3414\n",
      "3346\n",
      "3379\n",
      "3409\n",
      "3969\n",
      "4410\n",
      "7111\n",
      "5970\n",
      "6296\n",
      "11058\n",
      "20007\n",
      "29935\n",
      "26341\n",
      "9562\n",
      "1847\n",
      "176\n",
      "21\n"
     ]
    }
   ],
   "source": [
    "for i in range(max(check)):\n",
    "    print(check.count(i))"
   ]
  },
  {
   "cell_type": "code",
   "execution_count": 8,
   "metadata": {
    "scrolled": true
   },
   "outputs": [
    {
     "name": "stdout",
     "output_type": "stream",
     "text": [
      "0: srch_id\n",
      "1: date_time\n",
      "2: site_id\n",
      "3: visitor_location_country_id\n",
      "4: visitor_hist_starrating\n",
      "5: visitor_hist_adr_usd\n",
      "6: prop_country_id\n",
      "7: prop_id\n",
      "8: prop_starrating\n",
      "9: prop_review_score\n",
      "10: prop_brand_bool\n",
      "11: prop_location_score1\n",
      "12: prop_location_score2\n",
      "13: prop_log_historical_price\n",
      "14: position\n",
      "15: price_usd\n",
      "16: promotion_flag\n",
      "17: srch_destination_id\n",
      "18: srch_length_of_stay\n",
      "19: srch_booking_window\n",
      "20: srch_adults_count\n",
      "21: srch_children_count\n",
      "22: srch_room_count\n",
      "23: srch_saturday_night_bool\n",
      "24: srch_query_affinity_score\n",
      "25: orig_destination_distance\n",
      "26: random_bool\n",
      "27: comp1_rate\n",
      "28: comp1_inv\n",
      "29: comp1_rate_percent_diff\n",
      "30: comp2_rate\n",
      "31: comp2_inv\n",
      "32: comp2_rate_percent_diff\n",
      "33: comp3_rate\n",
      "34: comp3_inv\n",
      "35: comp3_rate_percent_diff\n",
      "36: comp4_rate\n",
      "37: comp4_inv\n",
      "38: comp4_rate_percent_diff\n",
      "39: comp5_rate\n",
      "40: comp5_inv\n",
      "41: comp5_rate_percent_diff\n",
      "42: comp6_rate\n",
      "43: comp6_inv\n",
      "44: comp6_rate_percent_diff\n",
      "45: comp7_rate\n",
      "46: comp7_inv\n",
      "47: comp7_rate_percent_diff\n",
      "48: comp8_rate\n",
      "49: comp8_inv\n",
      "50: comp8_rate_percent_diff\n",
      "51: click_bool\n",
      "52: gross_bookings_usd\n",
      "53: booking_bool\n"
     ]
    }
   ],
   "source": [
    "cols = df.columns\n",
    "for i, c in enumerate(cols):\n",
    "    print(f\"{i}: {c}\")"
   ]
  },
  {
   "cell_type": "code",
   "execution_count": 4,
   "metadata": {
    "scrolled": true
   },
   "outputs": [],
   "source": [
    "# cs.count_nans(df, fraction=True, dec=3)"
   ]
  },
  {
   "cell_type": "code",
   "execution_count": 5,
   "metadata": {},
   "outputs": [
    {
     "name": "stdout",
     "output_type": "stream",
     "text": [
      "All nans: 0.4850934555378199\n",
      "No nans: 0.02981308892436023\n",
      "Mixed: 0.4850934555378199\n"
     ]
    }
   ],
   "source": [
    "# cs.check_nans_per_query(df, \"srch_query_affinity_score\", rate=True, dec=4)"
   ]
  },
  {
   "cell_type": "code",
   "execution_count": 9,
   "metadata": {
    "scrolled": true
   },
   "outputs": [],
   "source": [
    "# cs.unique(df, \"visitor_location_country_id\", plot='hist')"
   ]
  },
  {
   "cell_type": "code",
   "execution_count": 22,
   "metadata": {},
   "outputs": [],
   "source": [
    "# cs.unique(df, \"prop_country_id\", plot='hist')"
   ]
  },
  {
   "cell_type": "code",
   "execution_count": null,
   "metadata": {},
   "outputs": [],
   "source": []
  },
  {
   "cell_type": "code",
   "execution_count": 24,
   "metadata": {
    "scrolled": false
   },
   "outputs": [
    {
     "name": "stdout",
     "output_type": "stream",
     "text": [
      "There are 18127 unique values.\n",
      "8192     69832\n",
      "4562     57090\n",
      "9402     40629\n",
      "8347     33274\n",
      "10979    33264\n",
      "         ...  \n",
      "17884        5\n",
      "11147        5\n",
      "10113        5\n",
      "1499         5\n",
      "8188         5\n",
      "Name: srch_destination_id, Length: 18127, dtype: int64\n"
     ]
    },
    {
     "data": {
      "image/png": "[encoded data removed]",
      "text/plain": [
       "<Figure size 432x288 with 1 Axes>"
      ]
     },
     "metadata": {
      "needs_background": "light"
     },
     "output_type": "display_data"
    }
   ],
   "source": [
    "cs.unique(df, \"srch_destination_id\", plot='hist')"
   ]
  },
  {
   "cell_type": "code",
   "execution_count": 11,
   "metadata": {},
   "outputs": [],
   "source": [
    "# cs.check_occurrence_per_query(df, \"prop_location_score2\", value=None, rate=True, dec=4)"
   ]
  },
  {
   "cell_type": "code",
   "execution_count": 12,
   "metadata": {},
   "outputs": [],
   "source": [
    "# Choose number given above for an anylisis of the variable\n",
    "\n",
    "#prop score 1 and 2 = 11,12\n",
    "\n",
    "to_check = cols[51]\n",
    "co_occurant = cols[53]\n",
    "plot_type = \"hist\""
   ]
  },
  {
   "cell_type": "code",
   "execution_count": null,
   "metadata": {
    "scrolled": true
   },
   "outputs": [],
   "source": [
    "cs.unique(df, to_check, plot=plot_type)"
   ]
  },
  {
   "cell_type": "code",
   "execution_count": null,
   "metadata": {},
   "outputs": [],
   "source": []
  },
  {
   "cell_type": "code",
   "execution_count": null,
   "metadata": {},
   "outputs": [],
   "source": [
    "cs.over_time(df, to_check)"
   ]
  },
  {
   "cell_type": "code",
   "execution_count": null,
   "metadata": {
    "scrolled": false
   },
   "outputs": [],
   "source": [
    "cs.co_occurrence(df, \"visitor_location_country_id\", \"booking_bool\", inv=True, scale='symlog',a=0.01)"
   ]
  },
  {
   "cell_type": "code",
   "execution_count": null,
   "metadata": {
    "scrolled": true
   },
   "outputs": [],
   "source": [
    "cs.check_correlation(df[df[\"random_bool\"]==0], to_check, co_occurant)"
   ]
  },
  {
   "cell_type": "code",
   "execution_count": null,
   "metadata": {
    "scrolled": true
   },
   "outputs": [],
   "source": [
    "cs.best_correlations(df, to_check, dec=4)"
   ]
  },
  {
   "cell_type": "code",
   "execution_count": 21,
   "metadata": {},
   "outputs": [
    {
     "data": {
      "image/png": "[encoded data removed]",
      "text/plain": [
       "<Figure size 432x288 with 1 Axes>"
      ]
     },
     "metadata": {
      "needs_background": "light"
     },
     "output_type": "display_data"
    },
    {
     "data": {
      "image/png": "[encoded data removed]",
      "text/plain": [
       "<Figure size 432x288 with 1 Axes>"
      ]
     },
     "metadata": {
      "needs_background": "light"
     },
     "output_type": "display_data"
    }
   ],
   "source": [
    "cs.rando_conditional(df, cols[53], cols[14], value_to_check=1, tight=True, a=1, d=True)\n",
    "\n",
    "cs.rando_conditional(df, cols[51], cols[14], value_to_check=1, tight=True, a=1, d=True)"
   ]
  },
  {
   "cell_type": "code",
   "execution_count": null,
   "metadata": {},
   "outputs": [],
   "source": [
    "cs.check_occurrence_per_query(df[df[\"random_bool\"] == 1], cols[53], dec=4)"
   ]
  },
  {
   "cell_type": "code",
   "execution_count": null,
   "metadata": {},
   "outputs": [],
   "source": [
    "cs.whiten_per_query(df, cols[15])\n",
    "cs.unique(df, f\"whitened {cols[15]}\", plot='hist')"
   ]
  },
  {
   "cell_type": "code",
   "execution_count": null,
   "metadata": {},
   "outputs": [],
   "source": [
    "cs.norm_per_query(df, cols[15])\n",
    "price_norm = f\"normalized {cols[15]}\"\n",
    "\n",
    "cs.unique(df[df[cols[53]] == 0], f\"normalized {cols[15]}\", plot='hist')\n",
    "cs.unique(df[df[cols[53]] == 1], f\"normalized {cols[15]}\", plot='hist')\n",
    "\n",
    "\n",
    "cs.co_occurrence(df, price_norm, cols[53])"
   ]
  },
  {
   "cell_type": "code",
   "execution_count": null,
   "metadata": {},
   "outputs": [],
   "source": [
    "cs.co_occurrence(df, f\"normalized {cols[15]}\", \"site_id\")"
   ]
  },
  {
   "cell_type": "code",
   "execution_count": null,
   "metadata": {},
   "outputs": [],
   "source": []
  },
  {
   "cell_type": "code",
   "execution_count": null,
   "metadata": {},
   "outputs": [],
   "source": []
  }
 ],
 "metadata": {
  "kernelspec": {
   "display_name": "Python 3",
   "language": "python",
   "name": "python3"
  },
  "language_info": {
   "codemirror_mode": {
    "name": "ipython",
    "version": 3
   },
   "file_extension": ".py",
   "mimetype": "text/x-python",
   "name": "python",
   "nbconvert_exporter": "python",
   "pygments_lexer": "ipython3",
   "version": "3.7.6"
  }
 },
 "nbformat": 4,
 "nbformat_minor": 2
}
