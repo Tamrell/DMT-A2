{
 "cells": [
  {
   "cell_type": "markdown",
   "metadata": {},
   "source": [
    "# PLOTS CREATED WITH SUBSET OF DATA (TRAIN FOLD 1 --> randomized but not complete)"
   ]
  },
  {
   "cell_type": "code",
   "execution_count": null,
   "metadata": {},
   "outputs": [],
   "source": [
    "import matplotlib.pyplot as plt\n",
    "import pandas as pd\n",
    "import numpy as np\n",
    "import os\n",
    "import seaborn as sns\n"
   ]
  },
  {
   "cell_type": "code",
   "execution_count": null,
   "metadata": {},
   "outputs": [],
   "source": [
    "train_segments = [0, 1, 2, 4, 5, 6, 7, 8, 9]\n",
    "path = os.path.join(\"data\", \"train_segments\", \"train_segment_\") ###################### I/O\n",
    "\n",
    "train_df =  pd.read_csv(f\"{path}{train_segments[0]}.csv\") \n"
   ]
  },
  {
   "cell_type": "code",
   "execution_count": null,
   "metadata": {},
   "outputs": [],
   "source": [
    "\n",
    "for col in train_df:\n",
    "    if \"sin\" in col:\n",
    "        print(col)\n",
    "    if \"cos\" in col:\n",
    "        print(col)\n",
    "    \n",
    "# train_df['']"
   ]
  },
  {
   "cell_type": "code",
   "execution_count": null,
   "metadata": {},
   "outputs": [],
   "source": [
    "# search_day_days = train_df[[\"search day sin\", \"search day cos\"]]"
   ]
  },
  {
   "cell_type": "code",
   "execution_count": null,
   "metadata": {},
   "outputs": [],
   "source": [
    "plt.figure(figsize=(6,6))\n",
    "ax = plt.subplot(111, projection='polar')\n",
    "\n",
    "days = sorted(np.arctan2(train_df[\"search day cos\"], train_df[\"search day sin\"]).unique().tolist())\n",
    "plt.polar(days, [1 for _ in range(len(days))], linewidth=32)\n",
    "\n",
    "ax.set_xticks([np.pi/6*i for i in range(12)])\n",
    "months = [\"January 2013\", \"                  Februari 2013\", \"                March 2013\", \"              April 2013\",\"               May 2013\", \"              June 2013\", \"July 2013\", \"\", \"\", \"\", \"November 2012                     \", \"December 2012                     \"]\n",
    "ax.set_xticklabels(months[::-1][-4:] + months[::-1][:8], fontsize=14)\n",
    "ax.set_yticks([0,1,1.2])\n",
    "ax.set_yticklabels([\"\",\"\"])\n",
    "plt.savefig(\"search moments in the dataset.png\", bbox_inches='tight', dpi=600)\n",
    "plt.show()\n"
   ]
  },
  {
   "cell_type": "code",
   "execution_count": null,
   "metadata": {},
   "outputs": [],
   "source": [
    "# plt.hist(np.arctan2(train_df[\"arrival day sin\"], train_df[\"arrival day cos\"]) * 180 / np.pi , bins=36, density=True)\n",
    "\n",
    "# df1 = pd.DataFrame((np.arctan2(train_df[\"arrival day sin\"], train_df[\"arrival day cos\"]) * 180 / np.pi).value_counts(bins=36))\n",
    "\n",
    "# plt.hist(df1)\n",
    "# print(df1.columns)"
   ]
  },
  {
   "cell_type": "code",
   "execution_count": null,
   "metadata": {},
   "outputs": [],
   "source": [
    "\n",
    "# plt.plot(ordered_coss * ordered_densities, ordered_sins * ordered_densities)\n",
    "# plt.xlim(-0.07, 0.07)\n",
    "# plt.ylim(-0.07, 0.07)"
   ]
  },
  {
   "cell_type": "code",
   "execution_count": null,
   "metadata": {},
   "outputs": [],
   "source": [
    "# plt.hist(np.arctan2(train_df[\"end day sin\"], train_df[\"end day cos\"]) * 180 / np.pi, bins=36)\n"
   ]
  },
  {
   "cell_type": "code",
   "execution_count": null,
   "metadata": {},
   "outputs": [],
   "source": [
    "# sns.scatterplot(train_df[\"search day cos\"].values.tolist(), train_df[\"search day sin\"].values.tolist(), alpha=0.01)\n",
    "# plt.show()\n",
    "# sns.scatterplot(train_df[\"arrival day cos\"].values.tolist(), train_df[\"arrival day sin\"].values.tolist(), alpha=0.01)\n",
    "# plt.show()\n",
    "\n",
    "def bin_angle(x, bin_count=52):\n",
    "    max_val = 180\n",
    "    min_val = -180\n",
    "    bin_size = 360/bin_count\n",
    "\n",
    "    for bin, check in enumerate(np.arange(-180, 180, bin_size)):\n",
    "        if x < check+bin_size:\n",
    "            return bin\n",
    "\n",
    "def find_bin_theta(x, bin_count=52):\n",
    "    max_val = 180\n",
    "    min_val = -180\n",
    "    bin_size = 360/bin_count\n",
    "\n",
    "    for bin, check in enumerate(np.arange(-180, 180, bin_size)):\n",
    "        if x < check+bin_size:\n",
    "            return check+bin_size/2\n",
    "\n",
    "def get_theta_by_bin(x, bin_count=52):\n",
    "    max_val = 180\n",
    "    min_val = -180\n",
    "    bin_size = 360/bin_count\n",
    "\n",
    "    for bin, check in enumerate(np.arange(-180, 180, bin_size)):\n",
    "        if x < check+bin_size:\n",
    "            return check+bin_size/2\n",
    "\n",
    "unique_window_shop = train_df.drop_duplicates('window_shopping_propensity')        \n",
    "# print(unique_window_shop['window_shopping_propensity'])\n",
    "# print(len(unique_window_shop))\n",
    "\n",
    "# print(unique_window_shop.columns)\n",
    "\n",
    "# print(unique_window_shop[['window_shopping_propensity']])\n",
    "# print(train_df.loc[unique_window_shop.index, 'window_shopping_propensity'].values.tolist())\n",
    "# print(train_df.loc[unique_window_shop.index, 'arrival day cos'].values.tolist())\n",
    "# print(train_df.loc[unique_window_shop.index, 'arrival day sin'].values.tolist())\n",
    "\n",
    "\n",
    "# thetas = unique_window_shop[['window_shopping_propensity']].apply(find_bin_theta)\n",
    "# print(thetas)\n",
    "# sort_res = sorted(zip(unique_window_shop.tolist(), thetas.tolist()), key=lambda x:x[0])\n",
    "\n",
    "\n",
    "# g = sns.FacetGrid(train_df, col=\"speed\", hue=\"speed\",\n",
    "#                   subplot_kws=dict(projection='polar'), height=4.5,\n",
    "#                   sharex=False, sharey=False, despine=False)\n",
    "\n",
    "# g.map(sns.scatterplot, , train_df['window_shopping_propensity'], alpha=0.01)\n",
    "# plt.show()\n",
    "\n",
    "\n",
    "thetas_degrees = pd.DataFrame(np.arctan2(train_df.loc[unique_window_shop.index, 'arrival day cos'].values, train_df.loc[unique_window_shop.index, 'arrival day sin'].values) *180 /np.pi)\n",
    "thetas_degrees_bin_centers = thetas_degrees[0].apply(get_theta_by_bin)\n",
    "theta_rad_bin_centers = thetas_degrees_bin_centers /180 *np.pi\n",
    "\n",
    "sorted_ = sorted(zip(unique_window_shop['window_shopping_propensity'].values.tolist(), theta_rad_bin_centers.tolist()), key=lambda x:x[1])\n",
    "sorted_.append(sorted_[0])\n",
    "\n",
    "ws, thetas = [e[0] for e in sorted_], [e[1] for e in sorted_]\n",
    "\n",
    "plt.figure(figsize=(6,6))\n",
    "ax = plt.subplot(111, projection='polar')\n",
    "# ax.plot(np.array(thetas) - np.pi*0.5, ws)\n",
    "# ax.set_xticklabels([ \"April 1\", \"\", \"July 1\", \"\", \"Oktober 1\", \"\", \"Januari 1\"])\n",
    "\n",
    "\n",
    "ax.fill_between(np.array(thetas), ws, y2=0, alpha=0.6)\n",
    "ax.plot(np.array(thetas), ws, label=\"propensity\")\n",
    "ax.set_xticks([np.pi/6*i for i in range(12)])\n",
    "months = [\"January\", \"           Februari\", \"      March\", \"      April\",\"      May\", \"      June\", \"July\", \"August         \", \"September               \", \"Oktober             \", \"November             \", \"December              \"]\n",
    "ax.set_xticklabels(months[::-1][-4:] + months[::-1][:8], fontsize=14)\n",
    "ax.set_rticks([])\n",
    "plt.legend(bbox_to_anchor=(1.05, 1.0), loc='upper left',fontsize=14)\n",
    "plt.savefig(\"year-as-sin-cos.png\", bbox_inches='tight', dpi=600)\n",
    "plt.show()\n",
    "\n",
    "\n",
    "plt.figure(figsize=(6,6))\n",
    "ax = plt.subplot(111, projection='polar')\n",
    "\n",
    "ax.fill_between(np.array(thetas), ws, y2=0, alpha=0.6)\n",
    "ax.plot(np.array(thetas), ws, label=\"propensity\")\n",
    "ax.set_xticks([np.pi/6*i for i in range(12)])\n",
    "months = [\"January 1st\", \"                 Februari 1st\", \"            March 1st\", \"            April 1st\",\"           May 1st\", \"          June 1st\", \"July 1st\", \"August 1st                 \", \"September 1st                   \", \"Oktober 1st                 \", \"November 1st                  \", \"December 1st                  \"]\n",
    "ax.set_xticklabels(months[::-1][-4:] + months[::-1][:8], fontsize=14)\n",
    "ax.set_rticks([])\n",
    "plt.legend(bbox_to_anchor=(1.05, 1.0), loc='upper left',fontsize=14)\n",
    "plt.savefig(\"year-as-sin-cos-with-1st.png\", bbox_inches='tight', dpi=600)\n",
    "plt.show()\n",
    "\n",
    "\n",
    "plt.figure(figsize=(6,6))\n",
    "ax = plt.subplot(111, projection='polar')\n",
    "\n",
    "ax.fill_between(np.array(thetas), ws, y2=0, alpha=0.6)\n",
    "ax.plot(np.array(thetas), ws, label=\"propensity\")\n",
    "ax.set_xticks([np.pi/6*i for i in range(12)])\n",
    "months = [\"January, 0$^\\circ$\", \"                  Februari, 30$^\\circ$\", \"             March, 60$^\\circ$\", \"             April, 90$^\\circ$\",\"             May, 120$^\\circ$\", \"               June, 150$^\\circ$\", \"July, 180$^\\circ$\", \"August, 210$^\\circ$                     \", \"September, 240$^\\circ$                        \", \"Oktober, 270$^\\circ$                 \", \"November, 300$^\\circ$                       \", \"December, 330$^\\circ$                        \"]\n",
    "ax.set_xticklabels(months[::-1][-4:] + months[::-1][:8], fontsize=14)\n",
    "ax.set_rticks([])\n",
    "plt.legend(bbox_to_anchor=(1.05, 1.0), loc='upper left',fontsize=14)\n",
    "plt.savefig(\"year-as-sin-cos-with-degrees.png\", bbox_inches='tight', dpi=600)\n",
    "plt.show()\n",
    "\n",
    "plt.figure(figsize=(6,6))\n",
    "ax = plt.subplot(111, projection='polar')\n",
    "\n",
    "ax.fill_between(np.array(thetas), ws, y2=0, alpha=0.6)\n",
    "ax.plot(np.array(thetas), ws, label=\"propensity\")\n",
    "ax.set_xticks([np.pi/6*i for i in range(12)])\n",
    "months = [\"January 1st, 0$^\\circ$\", \"                            Februari 1st, 30$^\\circ$\", \"                      March 1st, 30$^\\circ$\", \"                    April 1st, 90$^\\circ$\",\"                       May 1st, 120$^\\circ$\", \"                     June 1st, 150$^\\circ$\", \"July 1st, 180$^\\circ$\", \"August 1st, 210$^\\circ$                        \", \"September 1st, 240$^\\circ$                             \", \"Oktober 1st, 270$^\\circ$                        \", \"November 1st, 300$^\\circ$                           \", \"December 1st, 330$^\\circ$                            \"]\n",
    "ax.set_xticklabels(months[::-1][-4:] + months[::-1][:8], fontsize=14)\n",
    "ax.set_rticks([])\n",
    "plt.legend(bbox_to_anchor=(1.05, 0.95), loc='upper left',fontsize=14)\n",
    "plt.savefig(\"year-as-sin-cos-with-degrees-with-1st.png\", bbox_inches='tight', dpi=600)\n",
    "plt.show()\n",
    "\n"
   ]
  }
 ],
 "metadata": {
  "kernelspec": {
   "display_name": "Python 3",
   "language": "python",
   "name": "python3"
  },
  "language_info": {
   "codemirror_mode": {
    "name": "ipython",
    "version": 3
   },
   "file_extension": ".py",
   "mimetype": "text/x-python",
   "name": "python",
   "nbconvert_exporter": "python",
   "pygments_lexer": "ipython3",
   "version": "3.7.7"
  }
 },
 "nbformat": 4,
 "nbformat_minor": 4
}
