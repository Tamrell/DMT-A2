{
 "cells": [
  {
   "cell_type": "code",
   "execution_count": 1,
   "metadata": {},
   "outputs": [],
   "source": [
    "import pandas as pd\n",
    "import numpy as np\n",
    "from codebase import io"
   ]
  },
  {
   "cell_type": "code",
   "execution_count": 2,
   "metadata": {
    "scrolled": true
   },
   "outputs": [
    {
     "name": "stdout",
     "output_type": "stream",
     "text": [
      "Int64Index([272, 275, 278, 281], dtype='int64')\n"
     ]
    }
   ],
   "source": [
    "tracking = io.TRACKING_DF\n",
    "start_model = 272\n",
    "model_ids = tracking[start_model::3].index\n",
    "print(model_ids)"
   ]
  },
  {
   "cell_type": "code",
   "execution_count": 3,
   "metadata": {},
   "outputs": [],
   "source": [
    "results = io.load_jsons(model_ids)\n",
    "for c in results:\n",
    "    results[c] = results[c].apply(lambda x: np.mean(x))"
   ]
  },
  {
   "cell_type": "code",
   "execution_count": 4,
   "metadata": {},
   "outputs": [
    {
     "data": {
      "text/html": [
       "<div>\n",
       "<style scoped>\n",
       "    .dataframe tbody tr th:only-of-type {\n",
       "        vertical-align: middle;\n",
       "    }\n",
       "\n",
       "    .dataframe tbody tr th {\n",
       "        vertical-align: top;\n",
       "    }\n",
       "\n",
       "    .dataframe thead th {\n",
       "        text-align: right;\n",
       "    }\n",
       "</style>\n",
       "<table border=\"1\" class=\"dataframe\">\n",
       "  <thead>\n",
       "    <tr style=\"text-align: right;\">\n",
       "      <th></th>\n",
       "      <th>epoch_time</th>\n",
       "      <th>trn_ndcg</th>\n",
       "      <th>trn_ndcg@5</th>\n",
       "      <th>val_ndcg</th>\n",
       "      <th>val_ndcg@5</th>\n",
       "    </tr>\n",
       "    <tr>\n",
       "      <th>model_id</th>\n",
       "      <th></th>\n",
       "      <th></th>\n",
       "      <th></th>\n",
       "      <th></th>\n",
       "      <th></th>\n",
       "    </tr>\n",
       "  </thead>\n",
       "  <tbody>\n",
       "    <tr>\n",
       "      <th>272</th>\n",
       "      <td>129.538889</td>\n",
       "      <td>0.938154</td>\n",
       "      <td>0.411129</td>\n",
       "      <td>0.680677</td>\n",
       "      <td>0.336265</td>\n",
       "    </tr>\n",
       "    <tr>\n",
       "      <th>275</th>\n",
       "      <td>130.070171</td>\n",
       "      <td>1.407876</td>\n",
       "      <td>0.402659</td>\n",
       "      <td>0.603571</td>\n",
       "      <td>0.333760</td>\n",
       "    </tr>\n",
       "    <tr>\n",
       "      <th>278</th>\n",
       "      <td>126.153631</td>\n",
       "      <td>0.759775</td>\n",
       "      <td>0.401044</td>\n",
       "      <td>1.231378</td>\n",
       "      <td>0.342408</td>\n",
       "    </tr>\n",
       "    <tr>\n",
       "      <th>281</th>\n",
       "      <td>114.580313</td>\n",
       "      <td>0.525745</td>\n",
       "      <td>0.407108</td>\n",
       "      <td>0.750000</td>\n",
       "      <td>0.336560</td>\n",
       "    </tr>\n",
       "  </tbody>\n",
       "</table>\n",
       "</div>"
      ],
      "text/plain": [
       "          epoch_time  trn_ndcg  trn_ndcg@5  val_ndcg  val_ndcg@5\n",
       "model_id                                                        \n",
       "272       129.538889  0.938154    0.411129  0.680677    0.336265\n",
       "275       130.070171  1.407876    0.402659  0.603571    0.333760\n",
       "278       126.153631  0.759775    0.401044  1.231378    0.342408\n",
       "281       114.580313  0.525745    0.407108  0.750000    0.336560"
      ]
     },
     "execution_count": 4,
     "metadata": {},
     "output_type": "execute_result"
    }
   ],
   "source": [
    "results"
   ]
  },
  {
   "cell_type": "code",
   "execution_count": 5,
   "metadata": {},
   "outputs": [],
   "source": [
    "full_results = pd.merge(tracking, results, left_index=True, right_index=True)"
   ]
  },
  {
   "cell_type": "code",
   "execution_count": 6,
   "metadata": {},
   "outputs": [
    {
     "data": {
      "text/plain": [
       "278    0.342408\n",
       "281    0.336560\n",
       "272    0.336265\n",
       "275    0.333760\n",
       "Name: val_ndcg@5, dtype: float64"
      ]
     },
     "execution_count": 6,
     "metadata": {},
     "output_type": "execute_result"
    }
   ],
   "source": [
    "ordered = full_results.sort_values(by='val_ndcg@5', ascending=False)\n",
    "# full_results[full_results['relu_slope'] == 0.01]\n",
    "ordered[\"val_ndcg@5\"]"
   ]
  },
  {
   "cell_type": "code",
   "execution_count": 7,
   "metadata": {},
   "outputs": [
    {
     "name": "stdout",
     "output_type": "stream",
     "text": [
      "artificial_relevance: 0.0\n",
      "attention_layer_idx: 1.0\n",
      "datetime_shenanigans: 1.0\n",
      "device: cpu\n",
      "epochs: 3.0\n",
      "exp_ver: 0.0\n",
      "lambda_batch_size: 150.0\n",
      "layer_size: 80.0\n",
      "layers: 4.0\n",
      "learning_rate: 0.0001\n",
      "ndcg@5: 0.0\n",
      "normalize_per_subset: 1.0\n",
      "occurrence conversion: 1.0\n",
      "relu_slope: 0.01\n",
      "resnet: 1.0\n",
      "split_on_random_bool: 0.0\n",
      "summarize_competitors: 1.0\n",
      "travelling_within_country_bool: 1.0\n",
      "uniform_relevance: 0.0\n",
      "use_priors: 1.0\n",
      "epoch_time: 126.15363073348999\n",
      "trn_ndcg: 0.7597745368878046\n",
      "trn_ndcg@5: 0.4010443925917788\n",
      "val_ndcg: 1.231378212571144\n",
      "val_ndcg@5: 0.342408189633548\n"
     ]
    },
    {
     "name": "stderr",
     "output_type": "stream",
     "text": [
      "E:\\anaconda3\\lib\\site-packages\\ipykernel_launcher.py:2: FutureWarning: `item` has been deprecated and will be removed in a future version\n",
      "  \n"
     ]
    }
   ],
   "source": [
    "for val in ordered.head(0):\n",
    "    print(f\"{val}: {ordered.head(1)[val].item()}\")"
   ]
  },
  {
   "cell_type": "code",
   "execution_count": 8,
   "metadata": {
    "scrolled": true
   },
   "outputs": [
    {
     "name": "stdout",
     "output_type": "stream",
     "text": [
      "Calculating NDCG...\n"
     ]
    },
    {
     "name": "stderr",
     "output_type": "stream",
     "text": [
      "100% (22484 of 22484) |##################| Elapsed Time: 0:00:03 Time:  0:00:03\n"
     ]
    },
    {
     "name": "stdout",
     "output_type": "stream",
     "text": [
      "Calculating NDCG...\n"
     ]
    },
    {
     "name": "stderr",
     "output_type": "stream",
     "text": [
      "100% (21974 of 21974) |##################| Elapsed Time: 0:00:03 Time:  0:00:03\n"
     ]
    },
    {
     "name": "stdout",
     "output_type": "stream",
     "text": [
      "Calculating NDCG...\n"
     ]
    },
    {
     "name": "stderr",
     "output_type": "stream",
     "text": [
      "100% (21974 of 21974) |##################| Elapsed Time: 0:00:03 Time:  0:00:03\n"
     ]
    },
    {
     "name": "stdout",
     "output_type": "stream",
     "text": [
      "Calculating NDCG...\n"
     ]
    },
    {
     "name": "stderr",
     "output_type": "stream",
     "text": [
      "100% (22096 of 22096) |##################| Elapsed Time: 0:00:03 Time:  0:00:03\n"
     ]
    }
   ],
   "source": [
    "from codebase.evaluation import ndcg\n",
    "\n",
    "true_val_ndcg = []\n",
    "for model in ordered.index:\n",
    "    true_val_ndcg.append(ndcg(io.load_val_predictions(model)))\n",
    "ordered[\"true_val@5\"] = true_val_ndcg"
   ]
  },
  {
   "cell_type": "code",
   "execution_count": 9,
   "metadata": {},
   "outputs": [
    {
     "data": {
      "text/html": [
       "<div>\n",
       "<style scoped>\n",
       "    .dataframe tbody tr th:only-of-type {\n",
       "        vertical-align: middle;\n",
       "    }\n",
       "\n",
       "    .dataframe tbody tr th {\n",
       "        vertical-align: top;\n",
       "    }\n",
       "\n",
       "    .dataframe thead th {\n",
       "        text-align: right;\n",
       "    }\n",
       "</style>\n",
       "<table border=\"1\" class=\"dataframe\">\n",
       "  <thead>\n",
       "    <tr style=\"text-align: right;\">\n",
       "      <th></th>\n",
       "      <th>artificial_relevance</th>\n",
       "      <th>attention_layer_idx</th>\n",
       "      <th>datetime_shenanigans</th>\n",
       "      <th>device</th>\n",
       "      <th>epochs</th>\n",
       "      <th>exp_ver</th>\n",
       "      <th>lambda_batch_size</th>\n",
       "      <th>layer_size</th>\n",
       "      <th>layers</th>\n",
       "      <th>learning_rate</th>\n",
       "      <th>...</th>\n",
       "      <th>summarize_competitors</th>\n",
       "      <th>travelling_within_country_bool</th>\n",
       "      <th>uniform_relevance</th>\n",
       "      <th>use_priors</th>\n",
       "      <th>epoch_time</th>\n",
       "      <th>trn_ndcg</th>\n",
       "      <th>trn_ndcg@5</th>\n",
       "      <th>val_ndcg</th>\n",
       "      <th>val_ndcg@5</th>\n",
       "      <th>true_val@5</th>\n",
       "    </tr>\n",
       "  </thead>\n",
       "  <tbody>\n",
       "    <tr>\n",
       "      <th>272</th>\n",
       "      <td>0.0</td>\n",
       "      <td>1.0</td>\n",
       "      <td>1.0</td>\n",
       "      <td>cpu</td>\n",
       "      <td>3.0</td>\n",
       "      <td>0.0</td>\n",
       "      <td>150.0</td>\n",
       "      <td>80.0</td>\n",
       "      <td>4.0</td>\n",
       "      <td>0.0001</td>\n",
       "      <td>...</td>\n",
       "      <td>1.0</td>\n",
       "      <td>1.0</td>\n",
       "      <td>0.0</td>\n",
       "      <td>1.0</td>\n",
       "      <td>129.538889</td>\n",
       "      <td>0.938154</td>\n",
       "      <td>0.411129</td>\n",
       "      <td>0.680677</td>\n",
       "      <td>0.336265</td>\n",
       "      <td>0.336265</td>\n",
       "    </tr>\n",
       "    <tr>\n",
       "      <th>275</th>\n",
       "      <td>0.0</td>\n",
       "      <td>1.0</td>\n",
       "      <td>1.0</td>\n",
       "      <td>cpu</td>\n",
       "      <td>3.0</td>\n",
       "      <td>0.0</td>\n",
       "      <td>150.0</td>\n",
       "      <td>80.0</td>\n",
       "      <td>4.0</td>\n",
       "      <td>0.0001</td>\n",
       "      <td>...</td>\n",
       "      <td>1.0</td>\n",
       "      <td>1.0</td>\n",
       "      <td>0.0</td>\n",
       "      <td>1.0</td>\n",
       "      <td>130.070171</td>\n",
       "      <td>1.407876</td>\n",
       "      <td>0.402659</td>\n",
       "      <td>0.603571</td>\n",
       "      <td>0.333760</td>\n",
       "      <td>0.333760</td>\n",
       "    </tr>\n",
       "    <tr>\n",
       "      <th>278</th>\n",
       "      <td>0.0</td>\n",
       "      <td>1.0</td>\n",
       "      <td>1.0</td>\n",
       "      <td>cpu</td>\n",
       "      <td>3.0</td>\n",
       "      <td>0.0</td>\n",
       "      <td>150.0</td>\n",
       "      <td>80.0</td>\n",
       "      <td>4.0</td>\n",
       "      <td>0.0001</td>\n",
       "      <td>...</td>\n",
       "      <td>1.0</td>\n",
       "      <td>1.0</td>\n",
       "      <td>0.0</td>\n",
       "      <td>1.0</td>\n",
       "      <td>126.153631</td>\n",
       "      <td>0.759775</td>\n",
       "      <td>0.401044</td>\n",
       "      <td>1.231378</td>\n",
       "      <td>0.342408</td>\n",
       "      <td>0.342408</td>\n",
       "    </tr>\n",
       "    <tr>\n",
       "      <th>281</th>\n",
       "      <td>0.0</td>\n",
       "      <td>1.0</td>\n",
       "      <td>1.0</td>\n",
       "      <td>cpu</td>\n",
       "      <td>3.0</td>\n",
       "      <td>0.0</td>\n",
       "      <td>150.0</td>\n",
       "      <td>80.0</td>\n",
       "      <td>4.0</td>\n",
       "      <td>0.0001</td>\n",
       "      <td>...</td>\n",
       "      <td>1.0</td>\n",
       "      <td>1.0</td>\n",
       "      <td>0.0</td>\n",
       "      <td>1.0</td>\n",
       "      <td>114.580313</td>\n",
       "      <td>0.525745</td>\n",
       "      <td>0.407108</td>\n",
       "      <td>0.750000</td>\n",
       "      <td>0.336560</td>\n",
       "      <td>0.336560</td>\n",
       "    </tr>\n",
       "  </tbody>\n",
       "</table>\n",
       "<p>4 rows × 26 columns</p>\n",
       "</div>"
      ],
      "text/plain": [
       "     artificial_relevance  attention_layer_idx  datetime_shenanigans device  \\\n",
       "272                   0.0                  1.0                   1.0    cpu   \n",
       "275                   0.0                  1.0                   1.0    cpu   \n",
       "278                   0.0                  1.0                   1.0    cpu   \n",
       "281                   0.0                  1.0                   1.0    cpu   \n",
       "\n",
       "     epochs  exp_ver  lambda_batch_size  layer_size  layers  learning_rate  \\\n",
       "272     3.0      0.0              150.0        80.0     4.0         0.0001   \n",
       "275     3.0      0.0              150.0        80.0     4.0         0.0001   \n",
       "278     3.0      0.0              150.0        80.0     4.0         0.0001   \n",
       "281     3.0      0.0              150.0        80.0     4.0         0.0001   \n",
       "\n",
       "     ...  summarize_competitors  travelling_within_country_bool  \\\n",
       "272  ...                    1.0                             1.0   \n",
       "275  ...                    1.0                             1.0   \n",
       "278  ...                    1.0                             1.0   \n",
       "281  ...                    1.0                             1.0   \n",
       "\n",
       "     uniform_relevance  use_priors  epoch_time  trn_ndcg  trn_ndcg@5  \\\n",
       "272                0.0         1.0  129.538889  0.938154    0.411129   \n",
       "275                0.0         1.0  130.070171  1.407876    0.402659   \n",
       "278                0.0         1.0  126.153631  0.759775    0.401044   \n",
       "281                0.0         1.0  114.580313  0.525745    0.407108   \n",
       "\n",
       "     val_ndcg  val_ndcg@5  true_val@5  \n",
       "272  0.680677    0.336265    0.336265  \n",
       "275  0.603571    0.333760    0.333760  \n",
       "278  1.231378    0.342408    0.342408  \n",
       "281  0.750000    0.336560    0.336560  \n",
       "\n",
       "[4 rows x 26 columns]"
      ]
     },
     "execution_count": 9,
     "metadata": {},
     "output_type": "execute_result"
    }
   ],
   "source": [
    "ordered.sort_index()"
   ]
  },
  {
   "cell_type": "code",
   "execution_count": 10,
   "metadata": {},
   "outputs": [],
   "source": [
    "relevant = ordered[ordered[\"true_val@5\"] > ordered[\"true_val@5\"][272]]"
   ]
  },
  {
   "cell_type": "code",
   "execution_count": 11,
   "metadata": {
    "scrolled": true
   },
   "outputs": [
    {
     "data": {
      "text/html": [
       "<div>\n",
       "<style scoped>\n",
       "    .dataframe tbody tr th:only-of-type {\n",
       "        vertical-align: middle;\n",
       "    }\n",
       "\n",
       "    .dataframe tbody tr th {\n",
       "        vertical-align: top;\n",
       "    }\n",
       "\n",
       "    .dataframe thead th {\n",
       "        text-align: right;\n",
       "    }\n",
       "</style>\n",
       "<table border=\"1\" class=\"dataframe\">\n",
       "  <thead>\n",
       "    <tr style=\"text-align: right;\">\n",
       "      <th></th>\n",
       "      <th>artificial_relevance</th>\n",
       "      <th>attention_layer_idx</th>\n",
       "      <th>datetime_shenanigans</th>\n",
       "      <th>device</th>\n",
       "      <th>epochs</th>\n",
       "      <th>exp_ver</th>\n",
       "      <th>lambda_batch_size</th>\n",
       "      <th>layer_size</th>\n",
       "      <th>layers</th>\n",
       "      <th>learning_rate</th>\n",
       "      <th>...</th>\n",
       "      <th>summarize_competitors</th>\n",
       "      <th>travelling_within_country_bool</th>\n",
       "      <th>uniform_relevance</th>\n",
       "      <th>use_priors</th>\n",
       "      <th>epoch_time</th>\n",
       "      <th>trn_ndcg</th>\n",
       "      <th>trn_ndcg@5</th>\n",
       "      <th>val_ndcg</th>\n",
       "      <th>val_ndcg@5</th>\n",
       "      <th>true_val@5</th>\n",
       "    </tr>\n",
       "  </thead>\n",
       "  <tbody>\n",
       "    <tr>\n",
       "      <th>278</th>\n",
       "      <td>0.0</td>\n",
       "      <td>1.0</td>\n",
       "      <td>1.0</td>\n",
       "      <td>cpu</td>\n",
       "      <td>3.0</td>\n",
       "      <td>0.0</td>\n",
       "      <td>150.0</td>\n",
       "      <td>80.0</td>\n",
       "      <td>4.0</td>\n",
       "      <td>0.0001</td>\n",
       "      <td>...</td>\n",
       "      <td>1.0</td>\n",
       "      <td>1.0</td>\n",
       "      <td>0.0</td>\n",
       "      <td>1.0</td>\n",
       "      <td>126.153631</td>\n",
       "      <td>0.759775</td>\n",
       "      <td>0.401044</td>\n",
       "      <td>1.231378</td>\n",
       "      <td>0.342408</td>\n",
       "      <td>0.342408</td>\n",
       "    </tr>\n",
       "    <tr>\n",
       "      <th>281</th>\n",
       "      <td>0.0</td>\n",
       "      <td>1.0</td>\n",
       "      <td>1.0</td>\n",
       "      <td>cpu</td>\n",
       "      <td>3.0</td>\n",
       "      <td>0.0</td>\n",
       "      <td>150.0</td>\n",
       "      <td>80.0</td>\n",
       "      <td>4.0</td>\n",
       "      <td>0.0001</td>\n",
       "      <td>...</td>\n",
       "      <td>1.0</td>\n",
       "      <td>1.0</td>\n",
       "      <td>0.0</td>\n",
       "      <td>1.0</td>\n",
       "      <td>114.580313</td>\n",
       "      <td>0.525745</td>\n",
       "      <td>0.407108</td>\n",
       "      <td>0.750000</td>\n",
       "      <td>0.336560</td>\n",
       "      <td>0.336560</td>\n",
       "    </tr>\n",
       "  </tbody>\n",
       "</table>\n",
       "<p>2 rows × 26 columns</p>\n",
       "</div>"
      ],
      "text/plain": [
       "     artificial_relevance  attention_layer_idx  datetime_shenanigans device  \\\n",
       "278                   0.0                  1.0                   1.0    cpu   \n",
       "281                   0.0                  1.0                   1.0    cpu   \n",
       "\n",
       "     epochs  exp_ver  lambda_batch_size  layer_size  layers  learning_rate  \\\n",
       "278     3.0      0.0              150.0        80.0     4.0         0.0001   \n",
       "281     3.0      0.0              150.0        80.0     4.0         0.0001   \n",
       "\n",
       "     ...  summarize_competitors  travelling_within_country_bool  \\\n",
       "278  ...                    1.0                             1.0   \n",
       "281  ...                    1.0                             1.0   \n",
       "\n",
       "     uniform_relevance  use_priors  epoch_time  trn_ndcg  trn_ndcg@5  \\\n",
       "278                0.0         1.0  126.153631  0.759775    0.401044   \n",
       "281                0.0         1.0  114.580313  0.525745    0.407108   \n",
       "\n",
       "     val_ndcg  val_ndcg@5  true_val@5  \n",
       "278  1.231378    0.342408    0.342408  \n",
       "281  0.750000    0.336560    0.336560  \n",
       "\n",
       "[2 rows x 26 columns]"
      ]
     },
     "execution_count": 11,
     "metadata": {},
     "output_type": "execute_result"
    }
   ],
   "source": [
    "relevant"
   ]
  },
  {
   "cell_type": "code",
   "execution_count": null,
   "metadata": {},
   "outputs": [],
   "source": []
  }
 ],
 "metadata": {
  "kernelspec": {
   "display_name": "Python 3",
   "language": "python",
   "name": "python3"
  },
  "language_info": {
   "codemirror_mode": {
    "name": "ipython",
    "version": 3
   },
   "file_extension": ".py",
   "mimetype": "text/x-python",
   "name": "python",
   "nbconvert_exporter": "python",
   "pygments_lexer": "ipython3",
   "version": "3.7.6"
  }
 },
 "nbformat": 4,
 "nbformat_minor": 2
}
