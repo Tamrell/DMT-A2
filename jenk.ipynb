{
 "cells": [
  {
   "cell_type": "code",
   "execution_count": 1,
   "metadata": {},
   "outputs": [],
   "source": [
    "import pandas as pd\n",
    "from codebase import io"
   ]
  },
  {
   "cell_type": "code",
   "execution_count": 9,
   "metadata": {
    "scrolled": false
   },
   "outputs": [],
   "source": [
    "tracking = io.TRACKING_DF"
   ]
  },
  {
   "cell_type": "code",
   "execution_count": 7,
   "metadata": {},
   "outputs": [],
   "source": [
    "results = io.load_jsons()\n",
    "for c in results:\n",
    "    results[c] = results[c].apply(lambda x: x[0])"
   ]
  },
  {
   "cell_type": "code",
   "execution_count": 8,
   "metadata": {},
   "outputs": [
    {
     "data": {
      "text/html": [
       "<div>\n",
       "<style scoped>\n",
       "    .dataframe tbody tr th:only-of-type {\n",
       "        vertical-align: middle;\n",
       "    }\n",
       "\n",
       "    .dataframe tbody tr th {\n",
       "        vertical-align: top;\n",
       "    }\n",
       "\n",
       "    .dataframe thead th {\n",
       "        text-align: right;\n",
       "    }\n",
       "</style>\n",
       "<table border=\"1\" class=\"dataframe\">\n",
       "  <thead>\n",
       "    <tr style=\"text-align: right;\">\n",
       "      <th></th>\n",
       "      <th>epoch_time</th>\n",
       "      <th>trn_ndcg</th>\n",
       "      <th>trn_ndcg@5</th>\n",
       "      <th>val_ndcg</th>\n",
       "      <th>val_ndcg@5</th>\n",
       "    </tr>\n",
       "    <tr>\n",
       "      <th>model_id</th>\n",
       "      <th></th>\n",
       "      <th></th>\n",
       "      <th></th>\n",
       "      <th></th>\n",
       "      <th></th>\n",
       "    </tr>\n",
       "  </thead>\n",
       "  <tbody>\n",
       "    <tr>\n",
       "      <th>101</th>\n",
       "      <td>91.565141</td>\n",
       "      <td>1.227670</td>\n",
       "      <td>0.431053</td>\n",
       "      <td>0.533569</td>\n",
       "      <td>0.381866</td>\n",
       "    </tr>\n",
       "    <tr>\n",
       "      <th>104</th>\n",
       "      <td>91.849380</td>\n",
       "      <td>0.600858</td>\n",
       "      <td>0.429456</td>\n",
       "      <td>0.654920</td>\n",
       "      <td>0.381761</td>\n",
       "    </tr>\n",
       "    <tr>\n",
       "      <th>107</th>\n",
       "      <td>93.492985</td>\n",
       "      <td>1.630930</td>\n",
       "      <td>0.431428</td>\n",
       "      <td>1.130930</td>\n",
       "      <td>0.376189</td>\n",
       "    </tr>\n",
       "    <tr>\n",
       "      <th>11</th>\n",
       "      <td>63.257761</td>\n",
       "      <td>1.061606</td>\n",
       "      <td>0.400469</td>\n",
       "      <td>0.539709</td>\n",
       "      <td>0.368214</td>\n",
       "    </tr>\n",
       "    <tr>\n",
       "      <th>110</th>\n",
       "      <td>109.846253</td>\n",
       "      <td>0.667792</td>\n",
       "      <td>0.430516</td>\n",
       "      <td>0.551438</td>\n",
       "      <td>0.377053</td>\n",
       "    </tr>\n",
       "    <tr>\n",
       "      <th>...</th>\n",
       "      <td>...</td>\n",
       "      <td>...</td>\n",
       "      <td>...</td>\n",
       "      <td>...</td>\n",
       "      <td>...</td>\n",
       "    </tr>\n",
       "    <tr>\n",
       "      <th>86</th>\n",
       "      <td>111.269448</td>\n",
       "      <td>1.430677</td>\n",
       "      <td>0.432148</td>\n",
       "      <td>0.654920</td>\n",
       "      <td>0.387201</td>\n",
       "    </tr>\n",
       "    <tr>\n",
       "      <th>89</th>\n",
       "      <td>110.096584</td>\n",
       "      <td>1.693426</td>\n",
       "      <td>0.432387</td>\n",
       "      <td>1.261860</td>\n",
       "      <td>0.366165</td>\n",
       "    </tr>\n",
       "    <tr>\n",
       "      <th>92</th>\n",
       "      <td>111.031085</td>\n",
       "      <td>1.398271</td>\n",
       "      <td>0.426899</td>\n",
       "      <td>0.507169</td>\n",
       "      <td>0.371675</td>\n",
       "    </tr>\n",
       "    <tr>\n",
       "      <th>95</th>\n",
       "      <td>111.330285</td>\n",
       "      <td>0.901168</td>\n",
       "      <td>0.427377</td>\n",
       "      <td>0.658347</td>\n",
       "      <td>0.389071</td>\n",
       "    </tr>\n",
       "    <tr>\n",
       "      <th>98</th>\n",
       "      <td>110.609213</td>\n",
       "      <td>1.650921</td>\n",
       "      <td>0.428065</td>\n",
       "      <td>1.261860</td>\n",
       "      <td>0.382948</td>\n",
       "    </tr>\n",
       "  </tbody>\n",
       "</table>\n",
       "<p>78 rows × 5 columns</p>\n",
       "</div>"
      ],
      "text/plain": [
       "          epoch_time  trn_ndcg  trn_ndcg@5  val_ndcg  val_ndcg@5\n",
       "model_id                                                        \n",
       "101        91.565141  1.227670    0.431053  0.533569    0.381866\n",
       "104        91.849380  0.600858    0.429456  0.654920    0.381761\n",
       "107        93.492985  1.630930    0.431428  1.130930    0.376189\n",
       "11         63.257761  1.061606    0.400469  0.539709    0.368214\n",
       "110       109.846253  0.667792    0.430516  0.551438    0.377053\n",
       "...              ...       ...         ...       ...         ...\n",
       "86        111.269448  1.430677    0.432148  0.654920    0.387201\n",
       "89        110.096584  1.693426    0.432387  1.261860    0.366165\n",
       "92        111.031085  1.398271    0.426899  0.507169    0.371675\n",
       "95        111.330285  0.901168    0.427377  0.658347    0.389071\n",
       "98        110.609213  1.650921    0.428065  1.261860    0.382948\n",
       "\n",
       "[78 rows x 5 columns]"
      ]
     },
     "execution_count": 8,
     "metadata": {},
     "output_type": "execute_result"
    }
   ],
   "source": [
    "for i, row in tracking.iterrows():\n",
    "    results"
   ]
  },
  {
   "cell_type": "code",
   "execution_count": 13,
   "metadata": {},
   "outputs": [],
   "source": [
    "full_results = pd.merge(tracking, results, left_index=True, right_index=True)"
   ]
  },
  {
   "cell_type": "code",
   "execution_count": null,
   "metadata": {},
   "outputs": [],
   "source": []
  }
 ],
 "metadata": {
  "kernelspec": {
   "display_name": "Python 3",
   "language": "python",
   "name": "python3"
  },
  "language_info": {
   "codemirror_mode": {
    "name": "ipython",
    "version": 3
   },
   "file_extension": ".py",
   "mimetype": "text/x-python",
   "name": "python",
   "nbconvert_exporter": "python",
   "pygments_lexer": "ipython3",
   "version": "3.7.6"
  }
 },
 "nbformat": 4,
 "nbformat_minor": 2
}
